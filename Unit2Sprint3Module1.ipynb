{
 "cells": [
  {
   "cell_type": "code",
   "execution_count": 21,
   "metadata": {},
   "outputs": [
    {
     "name": "stdout",
     "output_type": "stream",
     "text": [
      "Requirement already satisfied: category_encoders==2.* in /home/afroroboticist/.virtualenvs/movieRecommender-QRQOtrCB/lib/python3.8/site-packages (2.2.2)\n",
      "Requirement already satisfied: patsy>=0.5.1 in /home/afroroboticist/.virtualenvs/movieRecommender-QRQOtrCB/lib/python3.8/site-packages (from category_encoders==2.*) (0.5.1)\n",
      "Requirement already satisfied: numpy>=1.14.0 in /home/afroroboticist/.virtualenvs/movieRecommender-QRQOtrCB/lib/python3.8/site-packages (from category_encoders==2.*) (1.19.5)\n",
      "Requirement already satisfied: scikit-learn>=0.20.0 in /home/afroroboticist/.virtualenvs/movieRecommender-QRQOtrCB/lib/python3.8/site-packages (from category_encoders==2.*) (0.24.1)\n",
      "Requirement already satisfied: statsmodels>=0.9.0 in /home/afroroboticist/.virtualenvs/movieRecommender-QRQOtrCB/lib/python3.8/site-packages (from category_encoders==2.*) (0.12.1)\n",
      "Requirement already satisfied: pandas>=0.21.1 in /home/afroroboticist/.virtualenvs/movieRecommender-QRQOtrCB/lib/python3.8/site-packages (from category_encoders==2.*) (1.2.1)\n",
      "Requirement already satisfied: scipy>=1.0.0 in /home/afroroboticist/.virtualenvs/movieRecommender-QRQOtrCB/lib/python3.8/site-packages (from category_encoders==2.*) (1.6.0)\n",
      "Requirement already satisfied: pytz>=2017.3 in /home/afroroboticist/.virtualenvs/movieRecommender-QRQOtrCB/lib/python3.8/site-packages (from pandas>=0.21.1->category_encoders==2.*) (2020.5)\n",
      "Requirement already satisfied: python-dateutil>=2.7.3 in /home/afroroboticist/.virtualenvs/movieRecommender-QRQOtrCB/lib/python3.8/site-packages (from pandas>=0.21.1->category_encoders==2.*) (2.8.1)\n",
      "Requirement already satisfied: numpy>=1.14.0 in /home/afroroboticist/.virtualenvs/movieRecommender-QRQOtrCB/lib/python3.8/site-packages (from category_encoders==2.*) (1.19.5)\n",
      "Requirement already satisfied: numpy>=1.14.0 in /home/afroroboticist/.virtualenvs/movieRecommender-QRQOtrCB/lib/python3.8/site-packages (from category_encoders==2.*) (1.19.5)\n",
      "Requirement already satisfied: six in /home/afroroboticist/.virtualenvs/movieRecommender-QRQOtrCB/lib/python3.8/site-packages (from patsy>=0.5.1->category_encoders==2.*) (1.15.0)\n",
      "Requirement already satisfied: six in /home/afroroboticist/.virtualenvs/movieRecommender-QRQOtrCB/lib/python3.8/site-packages (from patsy>=0.5.1->category_encoders==2.*) (1.15.0)\n",
      "Requirement already satisfied: scipy>=1.0.0 in /home/afroroboticist/.virtualenvs/movieRecommender-QRQOtrCB/lib/python3.8/site-packages (from category_encoders==2.*) (1.6.0)\n",
      "Requirement already satisfied: joblib>=0.11 in /home/afroroboticist/.virtualenvs/movieRecommender-QRQOtrCB/lib/python3.8/site-packages (from scikit-learn>=0.20.0->category_encoders==2.*) (1.0.0)\n",
      "Requirement already satisfied: threadpoolctl>=2.0.0 in /home/afroroboticist/.virtualenvs/movieRecommender-QRQOtrCB/lib/python3.8/site-packages (from scikit-learn>=0.20.0->category_encoders==2.*) (2.1.0)\n",
      "Requirement already satisfied: numpy>=1.14.0 in /home/afroroboticist/.virtualenvs/movieRecommender-QRQOtrCB/lib/python3.8/site-packages (from category_encoders==2.*) (1.19.5)\n",
      "Requirement already satisfied: numpy>=1.14.0 in /home/afroroboticist/.virtualenvs/movieRecommender-QRQOtrCB/lib/python3.8/site-packages (from category_encoders==2.*) (1.19.5)\n",
      "Requirement already satisfied: numpy>=1.14.0 in /home/afroroboticist/.virtualenvs/movieRecommender-QRQOtrCB/lib/python3.8/site-packages (from category_encoders==2.*) (1.19.5)\n",
      "Requirement already satisfied: scipy>=1.0.0 in /home/afroroboticist/.virtualenvs/movieRecommender-QRQOtrCB/lib/python3.8/site-packages (from category_encoders==2.*) (1.6.0)\n",
      "Requirement already satisfied: pandas>=0.21.1 in /home/afroroboticist/.virtualenvs/movieRecommender-QRQOtrCB/lib/python3.8/site-packages (from category_encoders==2.*) (1.2.1)\n",
      "Requirement already satisfied: patsy>=0.5.1 in /home/afroroboticist/.virtualenvs/movieRecommender-QRQOtrCB/lib/python3.8/site-packages (from category_encoders==2.*) (0.5.1)\n"
     ]
    }
   ],
   "source": [
    "import sklearn\n",
    "import pandas as pd\n",
    "import numpy as np\n",
    "from sklearn.pipeline import Pipeline, make_pipeline\n",
    "import seaborn as sns\n",
    "from sklearn.impute import SimpleImputer\n",
    "from sklearn.metrics import accuracy_score\n",
    "from sklearn.model_selection import train_test_split\n",
    "from sklearn.pipeline import make_pipeline\n",
    "from sklearn.ensemble import RandomForestClassifier\n",
    "\n",
    "DATA_PATH = '/home/afroroboticist/LAMBDA_SCHOOL/UNIT2/DS-Unit-2-Applied-Modeling/data/'\n",
    "burritos = 'burritos/burritos.csv'\n",
    "file_path = DATA_PATH + burritos\n",
    "!pip install category_encoders==2.*;\n"
   ]
  },
  {
   "cell_type": "code",
   "execution_count": 22,
   "metadata": {},
   "outputs": [
    {
     "name": "stdout",
     "output_type": "stream",
     "text": [
      "<class 'pandas.core.frame.DataFrame'>\n",
      "DatetimeIndex: 421 entries, 2016-01-18 to 2019-08-27\n",
      "Data columns (total 20 columns):\n",
      " #   Column        Non-Null Count  Dtype  \n",
      "---  ------        --------------  -----  \n",
      " 0   Cost          414 non-null    float64\n",
      " 1   Hunger        418 non-null    float64\n",
      " 2   Length        283 non-null    float64\n",
      " 3   Circum        281 non-null    float64\n",
      " 4   Volume        281 non-null    float64\n",
      " 5   Tortilla      421 non-null    float64\n",
      " 6   Temp          401 non-null    float64\n",
      " 7   Meat          407 non-null    float64\n",
      " 8   Fillings      418 non-null    float64\n",
      " 9   Meat:filling  412 non-null    float64\n",
      " 10  Uniformity    419 non-null    float64\n",
      " 11  Salsa         396 non-null    float64\n",
      " 12  Synergy       419 non-null    float64\n",
      " 13  Wrap          418 non-null    float64\n",
      " 14  overall       421 non-null    float64\n",
      " 15  Rec           231 non-null    object \n",
      " 16  Beef          421 non-null    int32  \n",
      " 17  Pico          421 non-null    int32  \n",
      " 18  Guac          421 non-null    int32  \n",
      " 19  Cheese        421 non-null    int32  \n",
      "dtypes: float64(15), int32(4), object(1)\n",
      "memory usage: 62.5+ KB\n"
     ]
    }
   ],
   "source": [
    "def wrangle(filepath):\n",
    "    df = pd.read_csv(filepath, parse_dates=['Date'], index_col='Date')\n",
    "    df.dropna(thresh=150, axis=1, inplace=True)\n",
    "    df.dropna(axis = 0, subset=['overall'], inplace=True)\n",
    "    threshold=10\n",
    "    high_card_cols = [col for col in df.select_dtypes('object').columns if df[col].nunique() > threshold]\n",
    "    df.drop(high_card_cols, axis=1, inplace=True)\n",
    "    \n",
    "    binary_cols = ['Beef','Pico','Guac','Cheese']\n",
    "    for col in binary_cols:\n",
    "        df[col] = df[col].str.lower().replace('x',1).fillna(0).astype('int32')\n",
    "    return df\n",
    "df = wrangle(file_path)\n",
    "df.info()"
   ]
  },
  {
   "cell_type": "code",
   "execution_count": 20,
   "metadata": {},
   "outputs": [
    {
     "data": {
      "text/html": [
       "<div>\n",
       "<style scoped>\n",
       "    .dataframe tbody tr th:only-of-type {\n",
       "        vertical-align: middle;\n",
       "    }\n",
       "\n",
       "    .dataframe tbody tr th {\n",
       "        vertical-align: top;\n",
       "    }\n",
       "\n",
       "    .dataframe thead th {\n",
       "        text-align: right;\n",
       "    }\n",
       "</style>\n",
       "<table border=\"1\" class=\"dataframe\">\n",
       "  <thead>\n",
       "    <tr style=\"text-align: right;\">\n",
       "      <th></th>\n",
       "      <th>Rec</th>\n",
       "    </tr>\n",
       "    <tr>\n",
       "      <th>Date</th>\n",
       "      <th></th>\n",
       "    </tr>\n",
       "  </thead>\n",
       "  <tbody>\n",
       "    <tr>\n",
       "      <th>2016-01-18</th>\n",
       "      <td>NaN</td>\n",
       "    </tr>\n",
       "    <tr>\n",
       "      <th>2016-01-24</th>\n",
       "      <td>NaN</td>\n",
       "    </tr>\n",
       "    <tr>\n",
       "      <th>2016-01-24</th>\n",
       "      <td>NaN</td>\n",
       "    </tr>\n",
       "    <tr>\n",
       "      <th>2016-01-24</th>\n",
       "      <td>NaN</td>\n",
       "    </tr>\n",
       "    <tr>\n",
       "      <th>2016-01-27</th>\n",
       "      <td>NaN</td>\n",
       "    </tr>\n",
       "    <tr>\n",
       "      <th>...</th>\n",
       "      <td>...</td>\n",
       "    </tr>\n",
       "    <tr>\n",
       "      <th>2019-08-27</th>\n",
       "      <td>NaN</td>\n",
       "    </tr>\n",
       "    <tr>\n",
       "      <th>2019-08-27</th>\n",
       "      <td>NaN</td>\n",
       "    </tr>\n",
       "    <tr>\n",
       "      <th>2019-08-27</th>\n",
       "      <td>NaN</td>\n",
       "    </tr>\n",
       "    <tr>\n",
       "      <th>2019-08-27</th>\n",
       "      <td>NaN</td>\n",
       "    </tr>\n",
       "    <tr>\n",
       "      <th>2019-08-27</th>\n",
       "      <td>NaN</td>\n",
       "    </tr>\n",
       "  </tbody>\n",
       "</table>\n",
       "<p>421 rows × 1 columns</p>\n",
       "</div>"
      ],
      "text/plain": [
       "            Rec\n",
       "Date           \n",
       "2016-01-18  NaN\n",
       "2016-01-24  NaN\n",
       "2016-01-24  NaN\n",
       "2016-01-24  NaN\n",
       "2016-01-27  NaN\n",
       "...         ...\n",
       "2019-08-27  NaN\n",
       "2019-08-27  NaN\n",
       "2019-08-27  NaN\n",
       "2019-08-27  NaN\n",
       "2019-08-27  NaN\n",
       "\n",
       "[421 rows x 1 columns]"
      ]
     },
     "execution_count": 20,
     "metadata": {},
     "output_type": "execute_result"
    }
   ],
   "source": []
  },
  {
   "cell_type": "code",
   "execution_count": null,
   "metadata": {},
   "outputs": [],
   "source": [
    "model_lr = make_pipeline(\n",
    "    OneHotEncoder(),\n",
    "    SimpleImputer(strategy='most_frequent'),\n",
    "    StandardScaler(),\n",
    "    LogisticRegression()\n",
    ")\n",
    "\n",
    "model_lr.fit(X_train, y_train);"
   ]
  },
  {
   "cell_type": "code",
   "execution_count": null,
   "metadata": {},
   "outputs": [],
   "source": [
    "model_rf = make_pipeline(\n",
    "    OneHotEncoder(),\n",
    "    SimpleImputer(strategy='most_frequent'),\n",
    "    StandardScaler(),\n",
    "    RandomForestClassifier(random_state=42)\n",
    ")\n",
    "\n",
    "model_rf.fit(X_train, y_train);"
   ]
  },
  {
   "cell_type": "code",
   "execution_count": null,
   "metadata": {},
   "outputs": [],
   "source": [
    "print('Training Accuracy (RF): ', model_lr.score(X_train, y_train))\n",
    "print('Validation Accuracy (RF): ', model_lr.score(X_val, y_val))\n",
    "\n",
    "print('Training Accuracy (RF): ', model_rf.score(X_train, y_train))\n",
    "print('Validation Accuracy (RF): ', model_rf.score(X_val, y_val))"
   ]
  }
 ],
 "metadata": {
  "kernelspec": {
   "display_name": "Python 3",
   "language": "python",
   "name": "python3"
  },
  "language_info": {
   "codemirror_mode": {
    "name": "ipython",
    "version": 3
   },
   "file_extension": ".py",
   "mimetype": "text/x-python",
   "name": "python",
   "nbconvert_exporter": "python",
   "pygments_lexer": "ipython3",
   "version": "3.8.5"
  }
 },
 "nbformat": 4,
 "nbformat_minor": 4
}
